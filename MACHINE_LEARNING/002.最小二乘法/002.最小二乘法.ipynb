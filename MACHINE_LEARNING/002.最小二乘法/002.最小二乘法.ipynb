{
 "cells": [
  {
   "cell_type": "markdown",
   "id": "7f7825e2",
   "metadata": {},
   "source": [
    "## 1、Numpy的矩阵运算基础"
   ]
  },
  {
   "cell_type": "markdown",
   "id": "b2c8a8a5",
   "metadata": {},
   "source": [
    "## 1.1 Numpy的矩阵表示"
   ]
  },
  {
   "cell_type": "code",
   "execution_count": 1,
   "id": "34d31a8d",
   "metadata": {},
   "outputs": [],
   "source": [
    "import numpy as np\n",
    "import pandas as pd"
   ]
  },
  {
   "cell_type": "markdown",
   "id": "aeda8ff4",
   "metadata": {},
   "source": [
    "&emsp;&emsp;在NumPy中，二维数组(array)和matrix类型对象都可以用于表示矩阵，并且也都具备矩阵的代数学方法。"
   ]
  },
  {
   "cell_type": "markdown",
   "id": "3d5a63c7",
   "metadata": {},
   "source": [
    "### 1.1.1 利用数组创建矩阵"
   ]
  },
  {
   "cell_type": "markdown",
   "id": "04e0d740",
   "metadata": {},
   "source": [
    "arr1 = np.array([])"
   ]
  }
 ],
 "metadata": {
  "kernelspec": {
   "display_name": "Python 3",
   "language": "python",
   "name": "python3"
  },
  "language_info": {
   "codemirror_mode": {
    "name": "ipython",
    "version": 3
   },
   "file_extension": ".py",
   "mimetype": "text/x-python",
   "name": "python",
   "nbconvert_exporter": "python",
   "pygments_lexer": "ipython3",
   "version": "3.12.10"
  }
 },
 "nbformat": 4,
 "nbformat_minor": 5
}
