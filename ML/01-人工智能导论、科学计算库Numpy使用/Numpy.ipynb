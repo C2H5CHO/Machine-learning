{
 "cells": [
  {
   "cell_type": "markdown",
   "id": "3f4a946c",
   "metadata": {},
   "source": [
    "# 1、`create ndarray`"
   ]
  },
  {
   "cell_type": "code",
   "execution_count": 19,
   "id": "03b7483f",
   "metadata": {},
   "outputs": [
    {
     "name": "stdout",
     "output_type": "stream",
     "text": [
      "[1 2 3 4 5]\n",
      "<class 'numpy.ndarray'>\n"
     ]
    }
   ],
   "source": [
    "import numpy as np\n",
    "\n",
    "# 直接创建数组\n",
    "arr1 = np.array([1, 2, 3, 4,5])\n",
    "print(arr1)\n",
    "print(type(arr1))\n"
   ]
  },
  {
   "cell_type": "code",
   "execution_count": 20,
   "id": "53c95881",
   "metadata": {},
   "outputs": [
    {
     "name": "stdout",
     "output_type": "stream",
     "text": [
      "[0 2 4 6 8]\n",
      "<class 'numpy.ndarray'>\n"
     ]
    }
   ],
   "source": [
    "# arange函数创建\n",
    "arr2 = np.arange(0, 10, 2) # 0-9，步长为2\n",
    "print(arr2)\n",
    "print(type(arr2))"
   ]
  },
  {
   "cell_type": "code",
   "execution_count": 21,
   "id": "95475665",
   "metadata": {},
   "outputs": [
    {
     "name": "stdout",
     "output_type": "stream",
     "text": [
      "[0. 0. 0. 0. 0. 0. 0. 0. 0. 0.]\n",
      "[1. 1. 1. 1. 1. 1. 1. 1. 1. 1.]\n"
     ]
    }
   ],
   "source": [
    "# 创建值全为0/1的数组\n",
    "arr3 = np.zeros(10)\n",
    "print(arr3)\n",
    "\n",
    "arr4 = np.ones(10)\n",
    "print(arr4)"
   ]
  },
  {
   "cell_type": "markdown",
   "id": "4e43d8e5",
   "metadata": {},
   "source": [
    "# 2、`attr`"
   ]
  },
  {
   "cell_type": "code",
   "execution_count": 22,
   "id": "e8b14436",
   "metadata": {},
   "outputs": [
    {
     "name": "stdout",
     "output_type": "stream",
     "text": [
      "数组形状： (2, 2, 3)\n",
      "数组维度 3\n",
      "数组元素个数 12\n",
      "数组元素类型 int64\n"
     ]
    }
   ],
   "source": [
    "import numpy as np\n",
    "\n",
    "# 数组属性、遍历方式\n",
    "arr1 = np.array([\n",
    "    [\n",
    "        [1,2,3],\n",
    "        [4,5,6]\n",
    "    ],\n",
    "    [\n",
    "        [7,8,9],\n",
    "        [10,11,12]\n",
    "    ]\n",
    "])\n",
    "\n",
    "print(\"数组形状：\", arr1.shape) # 输出数组形状\n",
    "print(\"数组维度\", arr1.ndim) # 输出数组维度\n",
    "print('数组元素个数', arr1.size) # 输出数组元素个数\n",
    "print('数组元素类型', arr1.dtype) # 输出数组元素类型"
   ]
  },
  {
   "cell_type": "code",
   "execution_count": 23,
   "id": "3f6884bd",
   "metadata": {},
   "outputs": [
    {
     "name": "stdout",
     "output_type": "stream",
     "text": [
      "第一页： [[1 2 3]\n",
      " [4 5 6]]\n",
      "第一页 第一行： [1 2 3]\n",
      "第一页 第一行 第一列： 1\n",
      "2\n"
     ]
    }
   ],
   "source": [
    "# 索引访问\n",
    "print(\"第一页：\", arr1[0])\n",
    "print(\"第一页 第一行：\", arr1[0][0])\n",
    "print(\"第一页 第一行 第一列：\", arr1[0][0][0])\n",
    "print(arr1[0, 0, 1])"
   ]
  },
  {
   "cell_type": "code",
   "execution_count": 24,
   "id": "ec9ad0a5",
   "metadata": {},
   "outputs": [
    {
     "name": "stdout",
     "output_type": "stream",
     "text": [
      "1 2 3 \n",
      "4 5 6 \n",
      "7 8 9 \n",
      "10 11 12 \n"
     ]
    }
   ],
   "source": [
    "# for循环遍历\n",
    "for i in range(arr1.shape[0]): # 遍历每一页\n",
    "    for j in range(arr1.shape[1]): # 遍历每一行\n",
    "        for k in range(arr1.shape[2]): # 遍历每一列\n",
    "            print(arr1[i][j][k], end=' ')\n",
    "        print()"
   ]
  },
  {
   "cell_type": "markdown",
   "id": "21ecf52e",
   "metadata": {},
   "source": [
    "# 3、`multi type`"
   ]
  },
  {
   "cell_type": "code",
   "execution_count": 25,
   "id": "a98f5517",
   "metadata": {},
   "outputs": [],
   "source": [
    "import numpy as np\n",
    "\n",
    "data = [\n",
    "    ('zs', [90, 80, 85], 15),\n",
    "    ('ls', [92, 81, 83], 16),\n",
    "    ('ww', [95, 85, 95], 18)\n",
    "]"
   ]
  },
  {
   "cell_type": "markdown",
   "id": "0347ed7b",
   "metadata": {},
   "source": [
    "- 方式1"
   ]
  },
  {
   "cell_type": "code",
   "execution_count": 26,
   "id": "dc895cbc",
   "metadata": {},
   "outputs": [
    {
     "name": "stdout",
     "output_type": "stream",
     "text": [
      "[('zs', [90, 80, 85], 15) ('ls', [92, 81, 83], 16)\n",
      " ('ww', [95, 85, 95], 18)]\n",
      "zs\n",
      "[92 81 83]\n"
     ]
    }
   ],
   "source": [
    "# U3：长度为3的Unicode字符串\n",
    "# 3int32：3个int32类型数字\n",
    "# int32：int32类型数字\n",
    "arr1 = np.array(data, dtype=\"U3, 3int32, int32\")\n",
    "print(arr1)\n",
    "print(arr1[0]['f0'])\n",
    "print(arr1[1]['f1'])"
   ]
  },
  {
   "cell_type": "markdown",
   "id": "58956539",
   "metadata": {},
   "source": [
    "- 方式2"
   ]
  },
  {
   "cell_type": "code",
   "execution_count": 27,
   "id": "7fe17eee",
   "metadata": {},
   "outputs": [
    {
     "name": "stdout",
     "output_type": "stream",
     "text": [
      "[('zs', [90, 80, 85], [15]) ('ls', [92, 81, 83], [16])\n",
      " ('ww', [95, 85, 95], [18])]\n",
      "['zs' 'ls' 'ww']\n",
      "[[90 80 85]\n",
      " [92 81 83]\n",
      " [95 85 95]]\n",
      "[[15]\n",
      " [16]\n",
      " [18]]\n"
     ]
    }
   ],
   "source": [
    " # dtype中定义(名称, 类型, 长度)\n",
    "arr2 = np.array(data, dtype=[('name', 'str_', 2), ('score', 'int32', 3), ('age', 'int32', 1)])\n",
    "print(arr2)\n",
    "print(arr2['name']) # 打印name列\n",
    "print(arr2['score']) # 打印score列\n",
    "print(arr2['age']) # 打印age列"
   ]
  },
  {
   "cell_type": "markdown",
   "id": "4ab7f282",
   "metadata": {},
   "source": [
    "- 方式3"
   ]
  },
  {
   "cell_type": "code",
   "execution_count": 28,
   "id": "864457cd",
   "metadata": {},
   "outputs": [
    {
     "name": "stdout",
     "output_type": "stream",
     "text": [
      "zs\n",
      "[92 81 83]\n"
     ]
    }
   ],
   "source": [
    "# 名称和类型分开定义\n",
    "arr3 = np.array(data, dtype={\"names\":[\"name\", \"score\", \"age\"], \"formats\":[\"U3\", \"3int32\", \"int32\"]})\n",
    "print(arr3[0]['name']) # 打印第一个人的名字\n",
    "print(arr3[1]['score']) # 打印第二个人的成绩"
   ]
  },
  {
   "cell_type": "markdown",
   "id": "d6f2112c",
   "metadata": {},
   "source": [
    "- 方式4"
   ]
  },
  {
   "cell_type": "code",
   "execution_count": 29,
   "id": "aee27747",
   "metadata": {},
   "outputs": [
    {
     "name": "stdout",
     "output_type": "stream",
     "text": [
      "zs\n",
      "[90 80 85]\n",
      "32\n"
     ]
    }
   ],
   "source": [
    "arr4 = np.array(data, dtype={'names':('U3', 0), 'scores':('3int32', 16), 'age':('int32', 28)})\n",
    "print(arr4[0]['names']) # 打印第一个人的名字\n",
    "print(arr4[0]['scores']) # 打印第一个人的成绩\n",
    "print(arr4.itemsize) # 打印数组中每个元素的字节数"
   ]
  },
  {
   "cell_type": "markdown",
   "id": "b6a53c2b",
   "metadata": {},
   "source": [
    "# 4、`date type`"
   ]
  },
  {
   "cell_type": "code",
   "execution_count": 30,
   "id": "6fa3a79e",
   "metadata": {},
   "outputs": [
    {
     "name": "stdout",
     "output_type": "stream",
     "text": [
      "['2020-01-01' '2020-01-01' '2021-01-01' '2020-02-01']\n",
      "[18262 18262 18628 18293]\n",
      "[1577836800 1577836800 1609462861 1580515200]\n",
      "31 days\n"
     ]
    }
   ],
   "source": [
    "import numpy as np\n",
    "\n",
    "f1 = np.array(['2020', '2020-01-01', '2021-01-01 01:01:01', '2020-02-01'])\n",
    "f2 = f1.astype(\"M8[D]\") # 转换为天数类型\n",
    "print(f2)\n",
    "f3 = f2.astype(\"int32\") # 转换为int32类型，表示距离1970年1月1日的天数\n",
    "print(f3)\n",
    "f4 = f1.astype(\"M8[s]\").astype(\"int32\")\n",
    "print(f4)\n",
    "print(f2[3] - f2[0]) # 计算两个日期的差值"
   ]
  },
  {
   "cell_type": "markdown",
   "id": "6d5f3054",
   "metadata": {},
   "source": [
    "# 5、`reshape`"
   ]
  },
  {
   "cell_type": "markdown",
   "id": "fafdc426",
   "metadata": {},
   "source": [
    "- 视图变维：不会复制数据部分\n",
    "- 复制变维：复制数据部分"
   ]
  },
  {
   "cell_type": "code",
   "execution_count": 31,
   "id": "257156a0",
   "metadata": {},
   "outputs": [
    {
     "name": "stdout",
     "output_type": "stream",
     "text": [
      "[1 2 3 4 5 6 7 8]\n",
      "(8,)\n"
     ]
    }
   ],
   "source": [
    "import numpy as np\n",
    "\n",
    "arr1 = np.arange(1, 9)\n",
    "print(arr1)\n",
    "print(arr1.shape)"
   ]
  },
  {
   "cell_type": "code",
   "execution_count": 32,
   "id": "3b8a9bb2",
   "metadata": {},
   "outputs": [
    {
     "name": "stdout",
     "output_type": "stream",
     "text": [
      "[[1 2 3 4]\n",
      " [5 6 7 8]]\n",
      "(2, 4)\n"
     ]
    }
   ],
   "source": [
    "arr2 = arr1.reshape(2, 4)\n",
    "print(arr2)\n",
    "print(arr2.shape)"
   ]
  },
  {
   "cell_type": "code",
   "execution_count": 33,
   "id": "1d5d1e9a",
   "metadata": {},
   "outputs": [
    {
     "name": "stdout",
     "output_type": "stream",
     "text": [
      "[[[1 2]\n",
      "  [3 4]]\n",
      "\n",
      " [[5 6]\n",
      "  [7 8]]]\n",
      "(2, 2, 2)\n"
     ]
    }
   ],
   "source": [
    "arr3 = arr2.reshape(2, 2, 2)\n",
    "print(arr3)\n",
    "print(arr3.shape)"
   ]
  },
  {
   "cell_type": "code",
   "execution_count": 34,
   "id": "b82c2493",
   "metadata": {},
   "outputs": [
    {
     "name": "stdout",
     "output_type": "stream",
     "text": [
      "[1 2 3 4 5 6 7 8]\n"
     ]
    }
   ],
   "source": [
    "arr4 = arr3.ravel() # 将多维数组转换为一维数组\n",
    "print(arr4)"
   ]
  },
  {
   "cell_type": "code",
   "execution_count": 35,
   "id": "4aaeb35a",
   "metadata": {},
   "outputs": [
    {
     "name": "stdout",
     "output_type": "stream",
     "text": [
      "[1 2 3 4 5 6 7 8]\n"
     ]
    }
   ],
   "source": [
    "arr5 = arr3.flatten() # 将多维数组转换为一维数组，返回一个新的数组\n",
    "print(arr5)"
   ]
  },
  {
   "cell_type": "code",
   "execution_count": 36,
   "id": "ca517597",
   "metadata": {},
   "outputs": [
    {
     "name": "stdout",
     "output_type": "stream",
     "text": [
      "arr1： [11 12 13 14 15 16 17 18]\n",
      "arr2： [[11 12 13 14]\n",
      " [15 16 17 18]]\n",
      "arr3： [[[11 12]\n",
      "  [13 14]]\n",
      "\n",
      " [[15 16]\n",
      "  [17 18]]]\n",
      "arr4： [11 12 13 14 15 16 17 18]\n",
      "arr5： [1 2 3 4 5 6 7 8]\n"
     ]
    }
   ],
   "source": [
    "arr1 += 10\n",
    "print(\"arr1：\", arr1)\n",
    "print(\"arr2：\", arr2)\n",
    "print(\"arr3：\", arr3)\n",
    "print(\"arr4：\", arr4)\n",
    "print(\"arr5：\", arr5) # arr5不受arr1影响，因为arr5是arr1的副本"
   ]
  },
  {
   "cell_type": "markdown",
   "id": "61cb21b8",
   "metadata": {},
   "source": [
    "# 6、`slice`"
   ]
  },
  {
   "cell_type": "code",
   "execution_count": 38,
   "id": "4a9fcb56",
   "metadata": {},
   "outputs": [
    {
     "name": "stdout",
     "output_type": "stream",
     "text": [
      "[1 2 3 4 5 6 7 8 9]\n"
     ]
    }
   ],
   "source": [
    "# 数组切片规则与Python列表一致\n",
    "import numpy as np\n",
    "\n",
    "arr1 = np.arange(1, 10)\n",
    "print(arr1)"
   ]
  },
  {
   "cell_type": "code",
   "execution_count": 40,
   "id": "6d1fad34",
   "metadata": {},
   "outputs": [
    {
     "name": "stdout",
     "output_type": "stream",
     "text": [
      "[1 2 3]\n",
      "[4 5 6]\n",
      "[7 8 9]\n"
     ]
    }
   ],
   "source": [
    "print(arr1[:3]) # 取前3个元素\n",
    "print(arr1[3:6]) # 取第4到第6个元素\n",
    "print(arr1[6:]) # 取第7到最后一个元素"
   ]
  },
  {
   "cell_type": "code",
   "execution_count": 43,
   "id": "391eab16",
   "metadata": {},
   "outputs": [
    {
     "name": "stdout",
     "output_type": "stream",
     "text": [
      "[9 8 7 6 5 4 3 2 1]\n",
      "[9 8 7]\n",
      "[3 2 1]\n"
     ]
    }
   ],
   "source": [
    "print(arr1[::-1]) # 反转数组\n",
    "print(arr1[:-4:-1]) # 取倒数第4到最后一个元素（不包含倒数第4个），步长为-1\n",
    "print(arr1[-7::-1]) # 取倒数第7到第1个元素（不包含倒数第7个），步长为-1"
   ]
  },
  {
   "cell_type": "code",
   "execution_count": 44,
   "id": "1e3eb460",
   "metadata": {},
   "outputs": [
    {
     "name": "stdout",
     "output_type": "stream",
     "text": [
      "[1 3 5 7 9]\n"
     ]
    }
   ],
   "source": [
    "print(arr1[::2]) # 取偶数位置的元素"
   ]
  },
  {
   "cell_type": "markdown",
   "id": "cdcc6d3c",
   "metadata": {},
   "source": [
    "# 7、`slice 2`"
   ]
  },
  {
   "cell_type": "code",
   "execution_count": 46,
   "id": "1e8a80fa",
   "metadata": {},
   "outputs": [
    {
     "name": "stdout",
     "output_type": "stream",
     "text": [
      "[[[ 1  2  3]\n",
      "  [ 4  5  6]\n",
      "  [ 7  8  9]]\n",
      "\n",
      " [[10 11 12]\n",
      "  [13 14 15]\n",
      "  [16 17 18]]\n",
      "\n",
      " [[19 20 21]\n",
      "  [22 23 24]\n",
      "  [25 26 27]]]\n"
     ]
    }
   ],
   "source": [
    "# 多维数组切片与索引\n",
    "import numpy as np\n",
    "\n",
    "arr1 = np.arange(1, 28) # 创建1-27的数组\n",
    "arr1.resize(3, 3, 3) # 重塑为3*3*3的数组\n",
    "print(arr1)"
   ]
  },
  {
   "cell_type": "code",
   "execution_count": null,
   "id": "8573fcc1",
   "metadata": {},
   "outputs": [
    {
     "name": "stdout",
     "output_type": "stream",
     "text": [
      "[[10 11 12]\n",
      " [13 14 15]\n",
      " [16 17 18]]\n"
     ]
    }
   ],
   "source": [
    "print(arr1[1, :, :]) # 第2维度，所有行，所有列"
   ]
  },
  {
   "cell_type": "code",
   "execution_count": null,
   "id": "450dd510",
   "metadata": {},
   "outputs": [
    {
     "name": "stdout",
     "output_type": "stream",
     "text": [
      "[[ 4  5  6]\n",
      " [13 14 15]\n",
      " [22 23 24]]\n"
     ]
    }
   ],
   "source": [
    "print(arr1[:, 1, :]) # 所有维度，第2行，所有列"
   ]
  },
  {
   "cell_type": "code",
   "execution_count": 53,
   "id": "7f22e509",
   "metadata": {},
   "outputs": [
    {
     "name": "stdout",
     "output_type": "stream",
     "text": [
      "[2 5 8]\n"
     ]
    }
   ],
   "source": [
    "print(arr1[0, :, 1]) # 第1维度，所有行，第2列"
   ]
  },
  {
   "cell_type": "markdown",
   "id": "c4109690",
   "metadata": {},
   "source": [
    "# 7、`mask`"
   ]
  },
  {
   "cell_type": "markdown",
   "id": "005a449e",
   "metadata": {},
   "source": [
    "掩码操作：比作筛子，即把True位置上的元素保留，False位置上的元素丢弃"
   ]
  },
  {
   "cell_type": "code",
   "execution_count": 56,
   "id": "d945c851",
   "metadata": {},
   "outputs": [
    {
     "name": "stdout",
     "output_type": "stream",
     "text": [
      "[1 2 3 4 5]\n",
      "[1 3]\n"
     ]
    }
   ],
   "source": [
    "import numpy as np\n",
    "\n",
    "arr1 = np.arange(1, 6, 1)\n",
    "print(arr1)\n",
    "mask = [True, False, True, False, False] # 掩码数组\n",
    "print(arr1[mask])"
   ]
  },
  {
   "cell_type": "code",
   "execution_count": 57,
   "id": "10047e90",
   "metadata": {},
   "outputs": [
    {
     "name": "stdout",
     "output_type": "stream",
     "text": [
      "[False False  True  True  True]\n"
     ]
    }
   ],
   "source": [
    "# 实际运用中，mask一般通过计算获取\n",
    "mask = (arr1 >= 3)\n",
    "print(mask)"
   ]
  }
 ],
 "metadata": {
  "kernelspec": {
   "display_name": "Python 3",
   "language": "python",
   "name": "python3"
  },
  "language_info": {
   "codemirror_mode": {
    "name": "ipython",
    "version": 3
   },
   "file_extension": ".py",
   "mimetype": "text/x-python",
   "name": "python",
   "nbconvert_exporter": "python",
   "pygments_lexer": "ipython3",
   "version": "3.12.10"
  }
 },
 "nbformat": 4,
 "nbformat_minor": 5
}
