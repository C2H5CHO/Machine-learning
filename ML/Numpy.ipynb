{
 "cells": [
  {
   "cell_type": "markdown",
   "id": "c7655874",
   "metadata": {},
   "source": [
    "# 一、概述"
   ]
  },
  {
   "cell_type": "markdown",
   "id": "9b178510",
   "metadata": {},
   "source": [
    "- numpy完全标准C语言实现，运行效率迅速"
   ]
  },
  {
   "cell_type": "markdown",
   "id": "b1cbdd52",
   "metadata": {},
   "source": [
    "## 1、发展历史"
   ]
  },
  {
   "cell_type": "markdown",
   "id": "1270ae4c",
   "metadata": {},
   "source": [
    "## 2、核心：多维数组"
   ]
  },
  {
   "cell_type": "markdown",
   "id": "e24c8a79",
   "metadata": {},
   "source": [
    "- 向量：一维数组\n",
    "- 矩阵：二维数组\n",
    "- 张量：三维数组"
   ]
  },
  {
   "cell_type": "markdown",
   "id": "70178c6b",
   "metadata": {},
   "source": [
    "# 二、基础"
   ]
  },
  {
   "cell_type": "markdown",
   "id": "3f4a946c",
   "metadata": {},
   "source": [
    "## 1、`ndarray`"
   ]
  },
  {
   "cell_type": "code",
   "execution_count": 4,
   "id": "03b7483f",
   "metadata": {},
   "outputs": [
    {
     "name": "stdout",
     "output_type": "stream",
     "text": [
      "[1 2 3 4 5]\n",
      "<class 'numpy.ndarray'>\n"
     ]
    }
   ],
   "source": [
    "# demo1 create ndarray\n",
    "import numpy as np\n",
    "\n",
    "# 直接创建数组\n",
    "arr1 = np.array([1, 2, 3, 4,5])\n",
    "print(arr1)\n",
    "print(type(arr1))\n"
   ]
  },
  {
   "cell_type": "code",
   "execution_count": 5,
   "id": "53c95881",
   "metadata": {},
   "outputs": [
    {
     "name": "stdout",
     "output_type": "stream",
     "text": [
      "[0 2 4 6 8]\n",
      "<class 'numpy.ndarray'>\n"
     ]
    }
   ],
   "source": [
    "# arange函数创建\n",
    "arr2 = np.arange(0, 10, 2) # 0-9，步长为2\n",
    "print(arr2)\n",
    "print(type(arr2))"
   ]
  },
  {
   "cell_type": "code",
   "execution_count": 6,
   "id": "95475665",
   "metadata": {},
   "outputs": [
    {
     "name": "stdout",
     "output_type": "stream",
     "text": [
      "[0. 0. 0. 0. 0. 0. 0. 0. 0. 0.]\n",
      "[1. 1. 1. 1. 1. 1. 1. 1. 1. 1.]\n"
     ]
    }
   ],
   "source": [
    "# 创建值全为0/1的数组\n",
    "arr3 = np.zeros(10)\n",
    "print(arr3)\n",
    "\n",
    "arr4 = np.ones(10)\n",
    "print(arr4)"
   ]
  }
 ],
 "metadata": {
  "kernelspec": {
   "display_name": "Python 3",
   "language": "python",
   "name": "python3"
  },
  "language_info": {
   "codemirror_mode": {
    "name": "ipython",
    "version": 3
   },
   "file_extension": ".py",
   "mimetype": "text/x-python",
   "name": "python",
   "nbconvert_exporter": "python",
   "pygments_lexer": "ipython3",
   "version": "3.12.10"
  }
 },
 "nbformat": 4,
 "nbformat_minor": 5
}
