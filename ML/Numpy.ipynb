{
 "cells": [
  {
   "cell_type": "markdown",
   "id": "3f4a946c",
   "metadata": {},
   "source": [
    "# 1、demo1 create ndarray"
   ]
  },
  {
   "cell_type": "code",
   "execution_count": 19,
   "id": "03b7483f",
   "metadata": {},
   "outputs": [
    {
     "name": "stdout",
     "output_type": "stream",
     "text": [
      "[1 2 3 4 5]\n",
      "<class 'numpy.ndarray'>\n"
     ]
    }
   ],
   "source": [
    "import numpy as np\n",
    "\n",
    "# 直接创建数组\n",
    "arr1 = np.array([1, 2, 3, 4,5])\n",
    "print(arr1)\n",
    "print(type(arr1))\n"
   ]
  },
  {
   "cell_type": "code",
   "execution_count": 20,
   "id": "53c95881",
   "metadata": {},
   "outputs": [
    {
     "name": "stdout",
     "output_type": "stream",
     "text": [
      "[0 2 4 6 8]\n",
      "<class 'numpy.ndarray'>\n"
     ]
    }
   ],
   "source": [
    "# arange函数创建\n",
    "arr2 = np.arange(0, 10, 2) # 0-9，步长为2\n",
    "print(arr2)\n",
    "print(type(arr2))"
   ]
  },
  {
   "cell_type": "code",
   "execution_count": 21,
   "id": "95475665",
   "metadata": {},
   "outputs": [
    {
     "name": "stdout",
     "output_type": "stream",
     "text": [
      "[0. 0. 0. 0. 0. 0. 0. 0. 0. 0.]\n",
      "[1. 1. 1. 1. 1. 1. 1. 1. 1. 1.]\n"
     ]
    }
   ],
   "source": [
    "# 创建值全为0/1的数组\n",
    "arr3 = np.zeros(10)\n",
    "print(arr3)\n",
    "\n",
    "arr4 = np.ones(10)\n",
    "print(arr4)"
   ]
  },
  {
   "cell_type": "markdown",
   "id": "4e43d8e5",
   "metadata": {},
   "source": [
    "# 2、demo2 attr"
   ]
  },
  {
   "cell_type": "code",
   "execution_count": 22,
   "id": "e8b14436",
   "metadata": {},
   "outputs": [
    {
     "name": "stdout",
     "output_type": "stream",
     "text": [
      "数组形状： (2, 2, 3)\n",
      "数组维度 3\n",
      "数组元素个数 12\n",
      "数组元素类型 int64\n"
     ]
    }
   ],
   "source": [
    "import numpy as np\n",
    "\n",
    "# 数组属性、遍历方式\n",
    "arr1 = np.array([\n",
    "    [\n",
    "        [1,2,3],\n",
    "        [4,5,6]\n",
    "    ],\n",
    "    [\n",
    "        [7,8,9],\n",
    "        [10,11,12]\n",
    "    ]\n",
    "])\n",
    "\n",
    "print(\"数组形状：\", arr1.shape) # 输出数组形状\n",
    "print(\"数组维度\", arr1.ndim) # 输出数组维度\n",
    "print('数组元素个数', arr1.size) # 输出数组元素个数\n",
    "print('数组元素类型', arr1.dtype) # 输出数组元素类型\n",
    "\n",
    "# 索引遍历"
   ]
  }
 ],
 "metadata": {
  "kernelspec": {
   "display_name": "Python 3",
   "language": "python",
   "name": "python3"
  },
  "language_info": {
   "codemirror_mode": {
    "name": "ipython",
    "version": 3
   },
   "file_extension": ".py",
   "mimetype": "text/x-python",
   "name": "python",
   "nbconvert_exporter": "python",
   "pygments_lexer": "ipython3",
   "version": "3.12.10"
  }
 },
 "nbformat": 4,
 "nbformat_minor": 5
}
