{
 "cells": [
  {
   "cell_type": "markdown",
   "metadata": {},
   "source": [
    "# 1、加载数据集"
   ]
  },
  {
   "cell_type": "code",
   "execution_count": 34,
   "metadata": {},
   "outputs": [],
   "source": [
    "import numpy as np\n",
    "from sklearn.model_selection import train_test_split\n",
    "from sklearn.datasets import load_iris"
   ]
  },
  {
   "cell_type": "code",
   "execution_count": 35,
   "metadata": {},
   "outputs": [],
   "source": [
    "iris = load_iris()\n",
    "x = iris.data\n",
    "y = iris.target\n",
    "x_train, x_test, y_train, y_test = train_test_split(x, y, test_size=0.7, random_state=233, stratify=y)"
   ]
  },
  {
   "cell_type": "markdown",
   "metadata": {},
   "source": [
    "# 2、超参数"
   ]
  },
  {
   "cell_type": "code",
   "execution_count": 36,
   "metadata": {},
   "outputs": [],
   "source": [
    "from sklearn.neighbors import KNeighborsClassifier"
   ]
  },
  {
   "cell_type": "code",
   "execution_count": 37,
   "metadata": {},
   "outputs": [
    {
     "name": "stdout",
     "output_type": "stream",
     "text": [
      "0.9428571428571428\n"
     ]
    }
   ],
   "source": [
    "neigh = KNeighborsClassifier(\n",
    "    n_neighbors=3, # 最近邻个数\n",
    "    weights='distance', # 权重\n",
    "    p=2 # 距离度量\n",
    ")\n",
    "\n",
    "neigh.fit(x_train, y_train)\n",
    "print(neigh.score(x_test, y_test))"
   ]
  },
  {
   "cell_type": "markdown",
   "metadata": {},
   "source": [
    "- 参数择优"
   ]
  },
  {
   "cell_type": "code",
   "execution_count": 38,
   "metadata": {},
   "outputs": [
    {
     "name": "stdout",
     "output_type": "stream",
     "text": [
      "0.9619047619047619 / 1 / uniform / 1\n"
     ]
    }
   ],
   "source": [
    "best_score = -1\n",
    "best_n = 1\n",
    "best_weight = ''\n",
    "best_p = -1\n",
    "\n",
    "for n in range(1, 20):\n",
    "    for weight in ['uniform', 'distance']:\n",
    "        for p in range(1, 7):\n",
    "            neigh = KNeighborsClassifier(\n",
    "                n_neighbors=n,\n",
    "                weights=weight,\n",
    "                p=p\n",
    "            )\n",
    "            neigh.fit(x_train, y_train)\n",
    "            score = neigh.score(x_test, y_test)\n",
    "            if score > best_score:\n",
    "                best_score = score\n",
    "                best_n = n\n",
    "                best_weight = weight\n",
    "                best_p = p\n",
    "\n",
    "print(best_score, '/', best_n, '/', best_weight, '/', best_p)"
   ]
  },
  {
   "cell_type": "markdown",
   "metadata": {},
   "source": [
    "- sklearn搜索"
   ]
  },
  {
   "cell_type": "code",
   "execution_count": 39,
   "metadata": {},
   "outputs": [],
   "source": [
    "from sklearn.model_selection import GridSearchCV"
   ]
  },
  {
   "cell_type": "code",
   "execution_count": null,
   "metadata": {},
   "outputs": [
    {
     "name": "stdout",
     "output_type": "stream",
     "text": [
      "1.0\n",
      "----------------------------------------------------------------------------------------------------\n",
      "{'n_neighbors': 1, 'p': 2, 'weights': 'uniform'}\n",
      "----------------------------------------------------------------------------------------------------\n",
      "[0 2 0 0 2 1 1 0 0 1 2 1 0 0 1 1 0 1 1 1 1 0 0 1 1 1 1 2 0 0 0 1 2 2 1 0 0\n",
      " 0 0 0 0 1 2 1 2 1 2 1 0 1 0 2 1 0 1 2 1 1 2 0 2 0 0 1 2 2 0 1 2 0 2 2 1 2\n",
      " 0 2 2 1 1 2 2 1 2 1 0 2 2 2 1 1 1 2 1 0 0 0 1 0 2 0 1 2 2 0 2]\n",
      "----------------------------------------------------------------------------------------------------\n",
      "0.9523809523809523\n"
     ]
    }
   ],
   "source": [
    "params = {\n",
    "    'n_neighbors': np.arange(1, 20),\n",
    "    'weights': ['uniform', 'distance'],\n",
    "    'p': np.arange(1, 7)\n",
    "}\n",
    "\n",
    "grid = GridSearchCV(\n",
    "    estimator=KNeighborsClassifier(), \n",
    "    param_grid=params, \n",
    "    n_jobs=-1\n",
    ")\n",
    "\n",
    "grid.fit(x_train, y_train)\n",
    "print(grid.best_score_)\n",
    "print('-'*100)\n",
    "print(grid.best_params_)\n",
    "print('-'*100)\n",
    "print(grid.best_estimator_.predict(x_test))\n",
    "print('-'*100)\n",
    "print(grid.best_estimator_.score(x_test, y_test))"
   ]
  }
 ],
 "metadata": {
  "kernelspec": {
   "display_name": "base",
   "language": "python",
   "name": "python3"
  },
  "language_info": {
   "codemirror_mode": {
    "name": "ipython",
    "version": 3
   },
   "file_extension": ".py",
   "mimetype": "text/x-python",
   "name": "python",
   "nbconvert_exporter": "python",
   "pygments_lexer": "ipython3",
   "version": "3.11.7"
  }
 },
 "nbformat": 4,
 "nbformat_minor": 2
}
