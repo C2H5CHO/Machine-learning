{
 "cells": [
  {
   "cell_type": "code",
   "execution_count": 121,
   "metadata": {},
   "outputs": [],
   "source": [
    "import numpy as np\n",
    "import matplotlib.pyplot as plt"
   ]
  },
  {
   "cell_type": "code",
   "execution_count": 122,
   "metadata": {},
   "outputs": [
    {
     "data": {
      "image/png": "[encoded data removed]",
      "text/plain": [
       "<Figure size 640x480 with 1 Axes>"
      ]
     },
     "metadata": {},
     "output_type": "display_data"
    }
   ],
   "source": [
    "# 样本特征\n",
    "data_x = [\n",
    "    [1.3, 6],\n",
    "    [3.5, 5],\n",
    "    [4.2, 2],\n",
    "    [5, 3.3],\n",
    "    [2, 9],\n",
    "    [5, 7.5],\n",
    "    [7.2, 4],\n",
    "    [8.1, 8],\n",
    "    [9, 2.5]\n",
    "]\n",
    "\n",
    "# 样本标签\n",
    "data_y = [0.1, 0.3 ,0.5 ,0.7, 0.9, 1.1, 1.3, 1.5, 1.7]\n",
    "\n",
    "# 训练集\n",
    "x_train = np.array(data_x)\n",
    "y_train = np.array(data_y)\n",
    "data_new = np.array([4, 5])\n",
    "\n",
    "plt.scatter(x_train[:, 0], x_train[:, 1], color='black')\n",
    "plt.scatter(data_new[0], data_new[1], color='red', marker='^')\n",
    "for i in range(len(y_train)):\n",
    "    plt.annotate(y_train[i], xy=x_train[i], xytext=(-15, 15), textcoords='offset points')\n",
    "plt.show()"
   ]
  },
  {
   "cell_type": "markdown",
   "metadata": {},
   "source": [
    "# 1、手写回归"
   ]
  },
  {
   "cell_type": "code",
   "execution_count": 123,
   "metadata": {},
   "outputs": [],
   "source": [
    "distances = [np.sqrt(np.sum((data - data_new)**2)) for data in x_train]\n",
    "sort_index = np.argsort(distances)\n",
    "k=5\n",
    "first_k = [y_train[i] for i in sort_index[:k]]"
   ]
  },
  {
   "cell_type": "code",
   "execution_count": 124,
   "metadata": {},
   "outputs": [],
   "source": [
    "from collections import Counter"
   ]
  },
  {
   "cell_type": "code",
   "execution_count": 125,
   "metadata": {},
   "outputs": [
    {
     "name": "stdout",
     "output_type": "stream",
     "text": [
      "0.3\n",
      "0.54\n"
     ]
    }
   ],
   "source": [
    "Counter(first_k).most_common(1)\n",
    "predict_y = Counter(first_k).most_common(1)[0][0]\n",
    "print(predict_y)\n",
    "print(np.mean(first_k))"
   ]
  },
  {
   "cell_type": "markdown",
   "metadata": {},
   "source": [
    "# 2、sklearn回归"
   ]
  },
  {
   "cell_type": "code",
   "execution_count": 126,
   "metadata": {},
   "outputs": [],
   "source": [
    "from sklearn.neighbors import KNeighborsRegressor"
   ]
  },
  {
   "cell_type": "code",
   "execution_count": 127,
   "metadata": {},
   "outputs": [
    {
     "name": "stdout",
     "output_type": "stream",
     "text": [
      "[0.54]\n"
     ]
    }
   ],
   "source": [
    "knn_reg = KNeighborsRegressor(n_neighbors=5)\n",
    "knn_reg.fit(x_train, y_train)\n",
    "predict_y = knn_reg.predict(data_new.reshape(1, -1))\n",
    "print(predict_y)"
   ]
  },
  {
   "cell_type": "markdown",
   "metadata": {},
   "source": [
    "# 3、加州住房数据集"
   ]
  },
  {
   "cell_type": "code",
   "execution_count": 128,
   "metadata": {},
   "outputs": [],
   "source": [
    "import numpy as np\n",
    "import matplotlib.pyplot as plt\n",
    "import sklearn\n",
    "from sklearn.model_selection import train_test_split\n",
    "from sklearn.datasets import fetch_california_housing"
   ]
  },
  {
   "cell_type": "code",
   "execution_count": 129,
   "metadata": {},
   "outputs": [
    {
     "name": "stdout",
     "output_type": "stream",
     "text": [
      "(20640, 8) (20640,)\n"
     ]
    }
   ],
   "source": [
    "fetch = fetch_california_housing()\n",
    "x = fetch.data\n",
    "y = fetch.target\n",
    "print(x.shape, y.shape)\n",
    "\n",
    "x_train, x_test, y_train, y_test = train_test_split(x, y, train_size=0.7, random_state=233)"
   ]
  },
  {
   "cell_type": "code",
   "execution_count": 130,
   "metadata": {},
   "outputs": [],
   "source": [
    "from sklearn.neighbors import KNeighborsRegressor"
   ]
  },
  {
   "cell_type": "code",
   "execution_count": 131,
   "metadata": {},
   "outputs": [
    {
     "name": "stdout",
     "output_type": "stream",
     "text": [
      "0.15709075311665432\n"
     ]
    }
   ],
   "source": [
    "knn_reg = KNeighborsRegressor(n_neighbors=5, weights='distance', p=2)\n",
    "knn_reg.fit(x_train, y_train)\n",
    "print(knn_reg.score(x_test, y_test))"
   ]
  },
  {
   "cell_type": "markdown",
   "metadata": {},
   "source": [
    "- 归一化"
   ]
  },
  {
   "cell_type": "code",
   "execution_count": 132,
   "metadata": {},
   "outputs": [],
   "source": [
    "from sklearn.preprocessing import StandardScaler"
   ]
  },
  {
   "cell_type": "code",
   "execution_count": 133,
   "metadata": {},
   "outputs": [
    {
     "name": "stdout",
     "output_type": "stream",
     "text": [
      "0.6840653317471668\n"
     ]
    }
   ],
   "source": [
    "standardScaler = StandardScaler() # 实例化\n",
    "standardScaler.fit(x_train) # 计算均值和方差\n",
    "x_train = standardScaler.transform(x_train) # 标准化\n",
    "x_test = standardScaler.transform(x_test) # 标准化\n",
    "knn_reg.fit(x_train, y_train) # 训练\n",
    "print(knn_reg.score(x_test, y_test)) # 评分"
   ]
  }
 ],
 "metadata": {
  "kernelspec": {
   "display_name": "base",
   "language": "python",
   "name": "python3"
  },
  "language_info": {
   "codemirror_mode": {
    "name": "ipython",
    "version": 3
   },
   "file_extension": ".py",
   "mimetype": "text/x-python",
   "name": "python",
   "nbconvert_exporter": "python",
   "pygments_lexer": "ipython3",
   "version": "3.11.7"
  }
 },
 "nbformat": 4,
 "nbformat_minor": 2
}
